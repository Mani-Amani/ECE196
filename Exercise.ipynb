{
 "cells": [
  {
   "cell_type": "markdown",
   "metadata": {},
   "source": [
    "# ECE 196 – Intro to Python Exercises\n",
    "<sub>Adapted from past ECE 16 materials</sub>\n",
    "## Exercise 1"
   ]
  },
  {
   "cell_type": "markdown",
   "metadata": {},
   "source": [
    "1. Create a list called \"list_1\" containing the ints (integers) from 1 to 10."
   ]
  },
  {
   "cell_type": "code",
   "execution_count": null,
   "metadata": {},
   "outputs": [],
   "source": [
    "list_1 = ##### Write your code here #####\n",
    "print(list_1)"
   ]
  },
  {
   "cell_type": "markdown",
   "metadata": {},
   "source": [
    "2. Create a second list \"list_2\" containing 11-20, but create them **as floats** this time."
   ]
  },
  {
   "cell_type": "code",
   "execution_count": null,
   "metadata": {},
   "outputs": [],
   "source": [
    "list_2 = ##### Write your code here #####\n",
    "print(list_2)"
   ]
  },
  {
   "cell_type": "markdown",
   "metadata": {},
   "source": [
    "3. Update \"list_1\" so that its first 3 elements get replaced with the list ```[\"one\", \"two\", \"three\"]```.\n",
    "   1. Print list_1 and the output should look like: ```['one', 'two', 'three', 4, 5, 6, 7, 8, 9, 10]```"
   ]
  },
  {
   "cell_type": "code",
   "execution_count": null,
   "metadata": {},
   "outputs": [],
   "source": [
    "##### Write your code here #####\n",
    "print(list_1)"
   ]
  },
  {
   "cell_type": "markdown",
   "metadata": {},
   "source": [
    "4. Create a tuple containing the words \"eleven\", \"twelve\" and \"thirteen\" and assign it to the first three elements from list_2.\n",
    "   1. Print list_2. It should look like: ```['eleven', 'twelve', 'thirteen', 14.0, 15.0, 16.0, 17.0, 18.0, 19.0, 20.0]```"
   ]
  },
  {
   "cell_type": "code",
   "execution_count": null,
   "metadata": {},
   "outputs": [],
   "source": [
    "tup = ##### Write your code here #####\n",
    "##### Write your code here #####\n",
    "print(list_2)"
   ]
  },
  {
   "cell_type": "markdown",
   "metadata": {},
   "source": [
    "5. Join the two lists into a new list in 2 different ways:\n",
    "   1. Use the **.extend()** method. Give the name \"joint_1\" to this list.\n",
    "   2. Use the \"+\" operator. Give the name \"joint_2\" to this list.\n",
    "   3. Print the joined list. It should look like: ```['one', 'two', 'three', 4, 5, 6, 7, 8, 9, 10, 'eleven', 'twelve', 'thirteen', 14.0, 15.0, 16.0, 17.0, 18.0, 19.0, 20.0]```"
   ]
  },
  {
   "cell_type": "code",
   "execution_count": null,
   "metadata": {},
   "outputs": [],
   "source": [
    "joint_1 = ##### Write your code here #####\n",
    "##### Write your code here #####\n",
    "##### Write your code here #####\n",
    "joint_2 = ##### Write your code here #####\n",
    "print(joint_1)\n",
    "print(joint_2)"
   ]
  },
  {
   "cell_type": "markdown",
   "metadata": {},
   "source": [
    "6. We want to make \"joint_2\" a list of fixed length to wihich we can continously add new elements. Create a function to do this task. The function should accept the \"fixed length\" list as well as the \"to append\" list as arguments and output the \"new list\" as output.\n",
    "\n",
    "    Output should look like:\n",
    "\n",
    "    ```python\n",
    "    >> fixed_length_list = [1,2,3,4]\n",
    "    >> new_data = [5,6,7]\n",
    "    >> list_shift(fixed_length_list, new_data)\n",
    "    [4,5,6,7]\n",
    "    ```"
   ]
  },
  {
   "cell_type": "code",
   "execution_count": null,
   "metadata": {},
   "outputs": [],
   "source": [
    "def list_shift(base_list, new_data):\n",
    "    # HINT: for loop\n",
    "    ##### Write your code here #####\n",
    "    ##### Write your code here #####\n",
    "    ##### Write your code here #####\n",
    "    return ##### Write your code here #####\n",
    "\n",
    "fixed_length_list = [1, 2, 3, 4]\n",
    "new_data = [5, 6, 7]\n",
    "list_shift(fixed_length_list, new_data)"
   ]
  },
  {
   "cell_type": "markdown",
   "metadata": {},
   "source": [
    "7. **Food for thought**: are there any edge cases that the your function doesn't handle? Can you think how you might address them?"
   ]
  },
  {
   "cell_type": "markdown",
   "metadata": {},
   "source": [
    "## Exercise 2"
   ]
  },
  {
   "cell_type": "markdown",
   "metadata": {},
   "source": [
    "1. Create a list of action commands. It should include \"STOP\", \"LISTEN\", \"SLEEP\", \"GO\"."
   ]
  },
  {
   "cell_type": "code",
   "execution_count": null,
   "metadata": {},
   "outputs": [],
   "source": [
    "command = ##### Write your code here #####"
   ]
  },
  {
   "cell_type": "markdown",
   "metadata": {},
   "source": [
    "2. Create a for loop that loops over each command and prints it to the console."
   ]
  },
  {
   "cell_type": "code",
   "execution_count": null,
   "metadata": {},
   "outputs": [],
   "source": [
    "##### Write your code here #####\n",
    "##### Write your code here #####"
   ]
  },
  {
   "cell_type": "markdown",
   "metadata": {},
   "source": [
    "3. Create a seperate list of strings that has the following in order: \"CONNECTION FAILURE\", \"BANANAS\", \"CONNECTION SUCCESS\", \"APPLES\""
   ]
  },
  {
   "cell_type": "code",
   "execution_count": null,
   "metadata": {},
   "outputs": [],
   "source": [
    "status = ##### Write your code here #####"
   ]
  },
  {
   "cell_type": "markdown",
   "metadata": {},
   "source": [
    "4. Assign the value \"SUCCESS\" to a variable called **text**."
   ]
  },
  {
   "cell_type": "code",
   "execution_count": 1,
   "metadata": {},
   "outputs": [],
   "source": [
    "text = ##### Write your code here #####"
   ]
  },
  {
   "cell_type": "markdown",
   "metadata": {},
   "source": [
    "5. Test the following logic statements:\n",
    "    1. `\"SUCCESS\" in \"SUCCESS\"`\n",
    "    2. `\"SUCCESS\" in \"ijoisafjoijiojSUCCESS\"`\n",
    "    3. `\"SUCCESS\" == \"ijoisafjoijiojSUCCESS\"`\n",
    "    4. `\"SUCCESS\" == text`\n",
    "    5. Are these comparing the whole string, or character by character?"
   ]
  },
  {
   "cell_type": "code",
   "execution_count": null,
   "metadata": {},
   "outputs": [],
   "source": [
    "##### Write your test here #####"
   ]
  },
  {
   "cell_type": "markdown",
   "metadata": {},
   "source": [
    "6. Make a while loop that loops over the list from step 3. Print each word unless it contains the string from step 4, in which case you should exit the loop and print: \"This worked!\""
   ]
  },
  {
   "cell_type": "code",
   "execution_count": null,
   "metadata": {},
   "outputs": [],
   "source": [
    "# HINT: how would you combine while loop, for loop, and if statement?\n",
    "##### Write your code here #####\n",
    "##### Write your code here #####\n",
    "##### Write your code here #####\n",
    "##### Write your code here #####\n",
    "##### Write your code here #####\n",
    "##### Write your code here #####\n",
    "##### Write your code here #####\n",
    "##### Write your code here #####"
   ]
  },
  {
   "cell_type": "markdown",
   "metadata": {},
   "source": [
    "## Exercise 3\n",
    "Create a function called `timer()` have it print out a countdown from the number of seconds provided by the user input. You can take in user input from the command line by calling the `input()` function and you can use `time()` to measure elapsed time. For example, if the user input is 5, the function should print out 5, 4, 3, 2, 1, 0 and then terminate, but it will do it in 1 second increments just like a timer.\n",
    "```"
   ]
  },
  {
   "cell_type": "code",
   "execution_count": 2,
   "metadata": {},
   "outputs": [
    {
     "name": "stdout",
     "output_type": "stream",
     "text": [
      "Enter a number of seconds: 10\n",
      "10\n",
      "9\n",
      "8\n",
      "7\n",
      "6\n",
      "5\n",
      "4\n",
      "3\n",
      "2\n",
      "1\n",
      "0\n",
      "======\\     ========    ========    ||\\    /||    /||\\ \n",
      "||    ||    ||    ||    ||    ||    || \\  / ||    |||| \n",
      "||====||    ||    ||    ||    ||    ||  \\/  ||    |||| \n",
      "||    ||    ||    ||    ||    ||    ||      ||     \\/  \n",
      "======/     ========    ========    ||      ||     ==  \n"
     ]
    }
   ],
   "source": [
    "import time\n",
    "\n",
    "def timer():\n",
    "    second = int(input(\"Enter a number of seconds: \"))\n",
    "    start = time.time()\n",
    "    ##### Write your code here #####\n",
    "    ##### Have fun and get creative! #####\n",
    "\n",
    "timer()"
   ]
  },
  {
   "cell_type": "code",
   "execution_count": null,
   "metadata": {},
   "outputs": [],
   "source": []
  }
 ],
 "metadata": {
  "kernelspec": {
   "display_name": "Python 3",
   "language": "python",
   "name": "python3"
  },
  "language_info": {
   "codemirror_mode": {
    "name": "ipython",
    "version": 3
   },
   "file_extension": ".py",
   "mimetype": "text/x-python",
   "name": "python",
   "nbconvert_exporter": "python",
   "pygments_lexer": "ipython3",
   "version": "3.7.4"
  }
 },
 "nbformat": 4,
 "nbformat_minor": 2
}
