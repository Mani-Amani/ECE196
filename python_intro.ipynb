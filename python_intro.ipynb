{
 "cells": [
  {
   "cell_type": "markdown",
   "metadata": {
    "slideshow": {
     "slide_type": "slide"
    }
   },
   "source": [
    "# ECE 196 Lecture 1: Intro to Python"
   ]
  },
  {
   "cell_type": "markdown",
   "metadata": {
    "slideshow": {
     "slide_type": "slide"
    }
   },
   "source": [
    "# Jupyter Notebook"
   ]
  },
  {
   "cell_type": "markdown",
   "metadata": {
    "slideshow": {
     "slide_type": "fragment"
    }
   },
   "source": [
    "<div class=\"alert alert-success\">\n",
    "Jupyter notebook is a tool that combines executable code, code outputs, and text into a single file.\n",
    "</div>"
   ]
  },
  {
   "cell_type": "markdown",
   "metadata": {
    "slideshow": {
     "slide_type": "fragment"
    }
   },
   "source": [
    "<div class=\"alert alert-success\">\n",
    "The main organizational structure of the notebook are 'cells'.\n",
    "</div>"
   ]
  },
  {
   "cell_type": "markdown",
   "metadata": {
    "slideshow": {
     "slide_type": "fragment"
    }
   },
   "source": [
    "<div class=\"alert alert-info\">\n",
    "For more useful information, check out Jupyter Notebooks \n",
    "<a href=\"https://www.dataquest.io/blog/jupyter-notebook-tips-tricks-shortcuts/\" class=\"alert-link\">tips & tricks</a>\n",
    ".\n",
    "The official documentation from project Jupyter is available \n",
    "<a href=\"https://jupyter-notebook.readthedocs.io/en/stable/\" class=\"alert-link\">here</a>\n",
    "and some example notebooks can be found\n",
    "<a href=\"https://github.com/jupyter/notebook/tree/master/docs/source/examples/Notebook\" class=\"alert-link\">here</a>\n",
    ".\n",
    "</div>"
   ]
  },
  {
   "cell_type": "markdown",
   "metadata": {
    "slideshow": {
     "slide_type": "slide"
    }
   },
   "source": [
    "<center><img src=\"media/meme1.png\" width=\"900px\"></center>"
   ]
  },
  {
   "cell_type": "markdown",
   "metadata": {
    "slideshow": {
     "slide_type": "slide"
    }
   },
   "source": [
    "# Variables\n",
    "* Variable name must start with a letter or the underscore character\n",
    "* Variable name cannot start with a number\n",
    "* Variable name can only contain: alphanumeric characters (A-z, 0-9) or underscores ( _ )\n",
    "* Variable names are case sensitive"
   ]
  },
  {
   "cell_type": "code",
   "execution_count": 1,
   "metadata": {
    "slideshow": {
     "slide_type": "fragment"
    }
   },
   "outputs": [
    {
     "name": "stdout",
     "output_type": "stream",
     "text": [
      "Po\n",
      "kung fu panda\n"
     ]
    }
   ],
   "source": [
    "dragon_warrior = 'Po'\n",
    "Dragon_Warrior = 'kung fu panda'\n",
    "print(dragon_warrior)\n",
    "print(Dragon_Warrior)"
   ]
  },
  {
   "cell_type": "markdown",
   "metadata": {
    "slideshow": {
     "slide_type": "subslide"
    }
   },
   "source": [
    "### Reserved Words\n",
    "\n",
    "There are 33 words that are not allowed to be used for variable assignment in Python."
   ]
  },
  {
   "cell_type": "markdown",
   "metadata": {
    "slideshow": {
     "slide_type": "fragment"
    }
   },
   "source": [
    "<table type=\"text/css\">\n",
    "  <tr>\n",
    "      <td><code>False</code></td>\n",
    "      <td><code>None</code></td>\n",
    "      <td><code>True</code></td>\n",
    "      <td><code>and</code></td>\n",
    "      <td><code>as</code></td>\n",
    "      <td><code>assert</code></td>\n",
    "      <td><code>break</code></td>\n",
    "  </tr>\n",
    "  <tr>\n",
    "      <td><code>class</code></td>\n",
    "      <td><code>continue</code></td>\n",
    "      <td><code>def</code></td>\n",
    "      <td><code>del</code></td>\n",
    "      <td><code>elif</code></td>\n",
    "      <td><code>else</code></td>\n",
    "      <td><code>except</code></td>\n",
    "  </tr>\n",
    "  <tr>\n",
    "      <td><code>finally</code></td>\n",
    "      <td><code>for</code></td>\n",
    "      <td><code>from</code></td>\n",
    "      <td><code>global</code></td>\n",
    "      <td><code>if</code></td>\n",
    "      <td><code>import</code></td>\n",
    "      <td><code>in</code></td>\n",
    "  </tr>\n",
    "  <tr>\n",
    "      <td><code>is</code></td>\n",
    "      <td><code>lambda</code></td>\n",
    "      <td><code>nonlocal</code></td>\n",
    "      <td><code>not</code></td>\n",
    "      <td><code>or</code></td>\n",
    "      <td><code>pass</code></td>\n",
    "      <td><code>raise</code></td>\n",
    "  </tr>    \n",
    "  <tr>\n",
    "      <td><code>return</code></td>\n",
    "      <td><code>try</code></td>\n",
    "      <td><code>while</code></td>\n",
    "      <td><code>with</code></td>\n",
    "      <td><code>yield</code></td>\n",
    "  </tr>    \n",
    "</table>"
   ]
  },
  {
   "cell_type": "markdown",
   "metadata": {
    "slideshow": {
     "slide_type": "subslide"
    }
   },
   "source": [
    "### Variable Types\n",
    "<div class=\"alert alert-success\">\n",
    "<b>Integers</b> store whole numbers.\n",
    "</div>"
   ]
  },
  {
   "cell_type": "code",
   "execution_count": 2,
   "metadata": {
    "slideshow": {
     "slide_type": "fragment"
    }
   },
   "outputs": [
    {
     "name": "stdout",
     "output_type": "stream",
     "text": [
      "10\n",
      "<class 'int'>\n"
     ]
    }
   ],
   "source": [
    "my_int = 10\n",
    "print(my_int)\n",
    "print(type(my_int))"
   ]
  },
  {
   "cell_type": "markdown",
   "metadata": {
    "slideshow": {
     "slide_type": "subslide"
    }
   },
   "source": [
    "### Variable Types\n",
    "<div class=\"alert alert-success\">\n",
    "<b>Floats</b> store signed, decimal-point numbers.\n",
    "</div>"
   ]
  },
  {
   "cell_type": "code",
   "execution_count": 3,
   "metadata": {
    "slideshow": {
     "slide_type": "fragment"
    }
   },
   "outputs": [
    {
     "name": "stdout",
     "output_type": "stream",
     "text": [
      "10.6\n",
      "<class 'float'>\n",
      "-3.14\n",
      "<class 'float'>\n"
     ]
    }
   ],
   "source": [
    "my_float = 10.6\n",
    "print(my_float)\n",
    "print(type(my_float))\n",
    "\n",
    "my_float = -3.14\n",
    "print(my_float)\n",
    "print(type(my_float))"
   ]
  },
  {
   "cell_type": "markdown",
   "metadata": {
    "slideshow": {
     "slide_type": "subslide"
    }
   },
   "source": [
    "### Variable Types\n",
    "<div class=\"alert alert-success\">\n",
    "<b>Strings</b> store characters, as text. \n",
    "</div>"
   ]
  },
  {
   "cell_type": "code",
   "execution_count": 4,
   "metadata": {
    "slideshow": {
     "slide_type": "fragment"
    }
   },
   "outputs": [
    {
     "name": "stdout",
     "output_type": "stream",
     "text": [
      "ECE 196 is awesome!\n",
      "<class 'str'>\n"
     ]
    }
   ],
   "source": [
    "my_string = 'ECE 196 is awesome!'\n",
    "print(my_string)\n",
    "print(type(my_string))"
   ]
  },
  {
   "cell_type": "markdown",
   "metadata": {
    "slideshow": {
     "slide_type": "subslide"
    }
   },
   "source": [
    "### Variable Types\n",
    "<div class=\"alert alert-success\">\n",
    "<b>Booleans</b> store \"True\" or \"False\". \n",
    "</div>"
   ]
  },
  {
   "cell_type": "code",
   "execution_count": 21,
   "metadata": {
    "slideshow": {
     "slide_type": "fragment"
    }
   },
   "outputs": [
    {
     "name": "stdout",
     "output_type": "stream",
     "text": [
      "True\n",
      "<class 'bool'>\n",
      "False\n",
      "<class 'bool'>\n"
     ]
    }
   ],
   "source": [
    "my_bool = True\n",
    "print(my_bool)\n",
    "print(type(my_bool))\n",
    "\n",
    "my_bool = False\n",
    "print(my_bool)\n",
    "print(type(my_bool))"
   ]
  },
  {
   "cell_type": "markdown",
   "metadata": {
    "slideshow": {
     "slide_type": "subslide"
    }
   },
   "source": [
    "### Variable Types\n",
    "<div class=\"alert alert-success\">\n",
    "\"None\" is a special type that stores \"None\", used to denote a null or empty value.\n",
    "</div>"
   ]
  },
  {
   "cell_type": "code",
   "execution_count": 22,
   "metadata": {
    "slideshow": {
     "slide_type": "fragment"
    }
   },
   "outputs": [
    {
     "name": "stdout",
     "output_type": "stream",
     "text": [
      "None\n",
      "<class 'NoneType'>\n"
     ]
    }
   ],
   "source": [
    "empty_var = None\n",
    "print(empty_var)\n",
    "print(type(empty_var))"
   ]
  },
  {
   "cell_type": "markdown",
   "metadata": {
    "slideshow": {
     "slide_type": "slide"
    }
   },
   "source": [
    "# Comments\n",
    "* Inline comment with the pound ( `#` ) key\n",
    "* Multiple-line comment with triple quotes ( `‘’’` or `“””` )"
   ]
  },
  {
   "cell_type": "code",
   "execution_count": 7,
   "metadata": {
    "slideshow": {
     "slide_type": "subslide"
    }
   },
   "outputs": [
    {
     "name": "stdout",
     "output_type": "stream",
     "text": [
      "10\n",
      "<class 'int'>\n",
      "10.6\n",
      "3.1415\n",
      "<class 'float'>\n",
      "hello world!\n",
      "<class 'str'>\n"
     ]
    }
   ],
   "source": [
    "x = 10   # this is an inline comment\n",
    "print(x)\n",
    "print(type(x))\n",
    "\n",
    "'''\n",
    "    THis is a multiple-line\n",
    "    comment\n",
    "'''\n",
    "y = 10.6\n",
    "print(y)\n",
    "\"\"\"\n",
    "    This is a multiple-line\n",
    "    comment\n",
    "\"\"\"\n",
    "x = 3.1415\n",
    "print(x)\n",
    "print(type(x))\n",
    "x = \"hello world!\"\n",
    "print(x)\n",
    "print(type(x))"
   ]
  },
  {
   "cell_type": "code",
   "execution_count": null,
   "metadata": {
    "slideshow": {
     "slide_type": "subslide"
    }
   },
   "outputs": [],
   "source": []
  },
  {
   "cell_type": "markdown",
   "metadata": {
    "slideshow": {
     "slide_type": "slide"
    }
   },
   "source": [
    "# Operators\n",
    "* assignment\n",
    "* math\n",
    "* logic\n",
    "* comparison"
   ]
  },
  {
   "cell_type": "markdown",
   "metadata": {
    "slideshow": {
     "slide_type": "slide"
    }
   },
   "source": [
    "## Assignment\n",
    "#### Code Variables != Math Variables\n",
    "* In mathematics: `=` refers to equality (as a statement of truth).\n",
    "* In coding: `=` refers to assignment."
   ]
  },
  {
   "cell_type": "markdown",
   "metadata": {
    "slideshow": {
     "slide_type": "subslide"
    }
   },
   "source": [
    "Math: What is x?\n",
    "\n",
    "$x = 2x + 2$"
   ]
  },
  {
   "cell_type": "markdown",
   "metadata": {
    "slideshow": {
     "slide_type": "fragment"
    }
   },
   "source": [
    "$-x = 2$\n",
    "\n",
    "$x = -2$"
   ]
  },
  {
   "cell_type": "markdown",
   "metadata": {
    "slideshow": {
     "slide_type": "subslide"
    }
   },
   "source": [
    "Code: What is x?\n",
    "\n",
    "`x = x + 1`"
   ]
  },
  {
   "cell_type": "code",
   "execution_count": 8,
   "metadata": {
    "slideshow": {
     "slide_type": "fragment"
    }
   },
   "outputs": [],
   "source": [
    "my_var = 2 \n",
    "my_var = my_var + 1"
   ]
  },
  {
   "cell_type": "markdown",
   "metadata": {
    "slideshow": {
     "slide_type": "fragment"
    }
   },
   "source": [
    "What is my_var?\n",
    "\n",
    "A) 0\n",
    "\n",
    "B) 2\n",
    "\n",
    "C) 3\n",
    "\n",
    "D) \"my_var + 1\""
   ]
  },
  {
   "cell_type": "markdown",
   "metadata": {
    "slideshow": {
     "slide_type": "slide"
    }
   },
   "source": [
    "## Math\n",
    "* Three types of number in Python: **int**, **float**, and **complex**\n",
    "* addition ( `+` ), subtraction ( `-` ), multiplication ( `*` ), division ( `/` ), exponentiation ( `**` ), modulus ( `%` ), floor division ( `//` )"
   ]
  },
  {
   "cell_type": "code",
   "execution_count": 9,
   "metadata": {
    "slideshow": {
     "slide_type": "subslide"
    }
   },
   "outputs": [
    {
     "name": "stdout",
     "output_type": "stream",
     "text": [
      "20.5\n",
      "<class 'float'>\n",
      "0\n",
      "(10-5j)\n",
      "<class 'complex'>\n",
      "10.0 -5.0\n",
      "(14-3j)\n",
      "(50+0j)\n"
     ]
    }
   ],
   "source": [
    "x = 10\n",
    "y = 10.5\n",
    "z = 10 + 10.5  ## dynamically assign z to be a float\n",
    "print(z)\n",
    "print(type(z))\n",
    "\n",
    "x = 5\n",
    "y = 16\n",
    "z = int(x / y)\n",
    "print(z)\n",
    "\n",
    "x = 10 - 5j\n",
    "y = 4 + 2j\n",
    "print(x)\n",
    "print(type(x))\n",
    "print(x.real, x.imag)\n",
    "print(x + y)\n",
    "print(x * y)"
   ]
  },
  {
   "cell_type": "markdown",
   "metadata": {
    "slideshow": {
     "slide_type": "slide"
    }
   },
   "source": [
    "## Logic (Boolean)\n",
    "* `and` : True if both are true\n",
    "* `or` : True if at least one is true\n",
    "* `not` : True only if false"
   ]
  },
  {
   "cell_type": "code",
   "execution_count": null,
   "metadata": {
    "slideshow": {
     "slide_type": "subslide"
    }
   },
   "outputs": [],
   "source": []
  },
  {
   "cell_type": "markdown",
   "metadata": {
    "slideshow": {
     "slide_type": "slide"
    }
   },
   "source": [
    "## Comparison Operators\n",
    "<div class=\"alert alert-success\">\n",
    "Python has comparison operators <code>==</code>, <code>!=</code>, <code><</code>, <code>></code>, <code><=</code>, and <code>>=</code> for value comparisons. These operators return booleans.\n",
    "</div>"
   ]
  },
  {
   "cell_type": "markdown",
   "metadata": {
    "slideshow": {
     "slide_type": "fragment"
    }
   },
   "source": [
    "* `==` : values are equal\n",
    "* `!=` : values are not equal\n",
    "* `<` : value on left is less than value or right\n",
    "* `>` : value on left is greater than value on right\n",
    "* `<=` : value on left is less than *or equal to* value on right\n",
    "* `>=` : value on left is greater than or equal to value on the right"
   ]
  },
  {
   "cell_type": "code",
   "execution_count": 30,
   "metadata": {
    "slideshow": {
     "slide_type": "subslide"
    }
   },
   "outputs": [
    {
     "data": {
      "text/plain": [
       "False"
      ]
     },
     "execution_count": 30,
     "metadata": {},
     "output_type": "execute_result"
    }
   ],
   "source": [
    "a = 5\n",
    "b = 5\n",
    "c = 10\n",
    "d = 50\n",
    "\n",
    "a*b > d"
   ]
  },
  {
   "cell_type": "markdown",
   "metadata": {
    "slideshow": {
     "slide_type": "slide"
    }
   },
   "source": [
    "# User Input\n",
    "To capture input from the user, use the **input** command."
   ]
  },
  {
   "cell_type": "code",
   "execution_count": 10,
   "metadata": {
    "slideshow": {
     "slide_type": "fragment"
    }
   },
   "outputs": [
    {
     "name": "stdout",
     "output_type": "stream",
     "text": [
      "Enter something:5\n",
      "value =  5\n",
      "<class 'str'>\n"
     ]
    }
   ],
   "source": [
    "value = input(\"Enter something:\")\n",
    "print(\"value = \", value)\n",
    "print(type(value))\n",
    "\n",
    "# try:\n",
    "#     value = int(input(\"Enter a number:\"))\n",
    "#     value = value + 1\n",
    "#     print(\"value after addition: \", value)\n",
    "# except ValueError:\n",
    "#     print(\"ValueError: Input must be a number\")\n",
    "# x = 5\n",
    "# print(x)"
   ]
  },
  {
   "cell_type": "markdown",
   "metadata": {
    "slideshow": {
     "slide_type": "slide"
    }
   },
   "source": [
    "# Indentations"
   ]
  },
  {
   "cell_type": "markdown",
   "metadata": {
    "slideshow": {
     "slide_type": "slide"
    }
   },
   "source": [
    "# Conditionals\n",
    "* `if`\n",
    "* `elif`\n",
    "* `else`"
   ]
  },
  {
   "cell_type": "markdown",
   "metadata": {
    "slideshow": {
     "slide_type": "fragment"
    }
   },
   "source": [
    "<div class=\"alert alert-success\">\n",
    "Conditionals are statements that check for a condition, using the <code>if</code> statement, and then only execute a set of code if the condition evaluates as <code>True</code>.\n",
    "</div>"
   ]
  },
  {
   "cell_type": "markdown",
   "metadata": {
    "slideshow": {
     "slide_type": "fragment"
    }
   },
   "source": [
    "<div class=\"alert alert-success\">\n",
    "After an <code>if</code> statement, you can have any number of <code>elif</code>`s (meaning 'else if') to check other conditions.\n",
    "</div>"
   ]
  },
  {
   "cell_type": "markdown",
   "metadata": {
    "slideshow": {
     "slide_type": "fragment"
    }
   },
   "source": [
    "<div class=\"alert alert-success\">\n",
    "After an <code>if</code>, you can use an <code>else</code> that will run if the conditional(s) above have not run.\n",
    "</div>"
   ]
  },
  {
   "cell_type": "markdown",
   "metadata": {
    "slideshow": {
     "slide_type": "subslide"
    }
   },
   "source": [
    "**if** condition 1:\n",
    "\n",
    "    code goes here\n",
    "    \n",
    "**elif** condition 2:\n",
    "\n",
    "    code goes here\n",
    "\n",
    "**else:**\n",
    "\n",
    "    code goes here"
   ]
  },
  {
   "cell_type": "markdown",
   "metadata": {
    "slideshow": {
     "slide_type": "skip"
    }
   },
   "source": [
    "## Properties of conditionals\n",
    "\n",
    "- All conditionals start with an `if`, can have an optional and variable number of `elif`'s and an optional `else` statement\n",
    "- Conditionals can take any expression that can be evaluated as `True` or `False`. \n",
    "- At most one component (`if` / `elif` / `else`) of a conditional will run\n",
    "- The order of conditional blocks is always `if` then `elif`(s) then `else`\n",
    "- Code is only ever executed if the condition is met"
   ]
  },
  {
   "cell_type": "code",
   "execution_count": 11,
   "metadata": {
    "slideshow": {
     "slide_type": "subslide"
    }
   },
   "outputs": [
    {
     "name": "stdout",
     "output_type": "stream",
     "text": [
      "Thank you!\n"
     ]
    }
   ],
   "source": [
    "ECE196 = input(\"How do you like ECE 196? \")\n",
    "\n",
    "if ECE196 == 'Amazing':\n",
    "    print('Hoooray!')\n",
    "elif ECE196 == 'Great':\n",
    "    print('Thank you!')\n",
    "elif ECE196 == 'Good':\n",
    "    print('We appreciate the feedback!')\n",
    "else:\n",
    "    print('We will work hard to improve!')"
   ]
  },
  {
   "cell_type": "markdown",
   "metadata": {
    "slideshow": {
     "slide_type": "slide"
    }
   },
   "source": [
    "# Collections"
   ]
  },
  {
   "cell_type": "markdown",
   "metadata": {
    "slideshow": {
     "slide_type": "slide"
    }
   },
   "source": [
    "# List\n",
    "Refer to the following [link](https://docs.python.org/3/tutorial/datastructures.html) for all the available function."
   ]
  },
  {
   "cell_type": "markdown",
   "metadata": {
    "slideshow": {
     "slide_type": "fragment"
    }
   },
   "source": [
    "<div class=\"alert alert-success\">\n",
    "A <b>list</b> is a mutable collection of ordered items, that can be of mixed type. Lists are created using square brackets.\n",
    "</div>"
   ]
  },
  {
   "cell_type": "code",
   "execution_count": 12,
   "metadata": {
    "slideshow": {
     "slide_type": "subslide"
    }
   },
   "outputs": [
    {
     "name": "stdout",
     "output_type": "stream",
     "text": [
      "['potatoes', 'bananas', (2+4j), (2+5j)]\n",
      "<class 'complex'>\n",
      "['potatoes', 'bananas', (2+4j), (2+5j), 'apples']\n",
      "['potatoes', (2+4j), (2+5j), 'apples']\n",
      "['potatoes', (2+4j), 'bananas', (2+5j), 'apples']\n"
     ]
    }
   ],
   "source": [
    "my_grocery_list = [\"apples\", \"bananas\", 5.5, 2 + 5j] ## intialized using brackets\n",
    "my_grocery_list[0] = \"potatoes\"\n",
    "my_grocery_list[2] = 2 + 4j      ## modifying element\n",
    "print(my_grocery_list)\n",
    "print(type(my_grocery_list[2]))\n",
    "\n",
    "my_grocery_list.append(\"apples\")  ## appending element\n",
    "print(my_grocery_list)\n",
    "\n",
    "my_grocery_list.pop(1)    ## removing element\n",
    "print(my_grocery_list)\n",
    "\n",
    "my_grocery_list.insert(2, \"bananas\")  ## insert at specified location\n",
    "print(my_grocery_list)"
   ]
  },
  {
   "cell_type": "code",
   "execution_count": null,
   "metadata": {
    "slideshow": {
     "slide_type": "subslide"
    }
   },
   "outputs": [],
   "source": [
    "# indexing and slicing\n"
   ]
  },
  {
   "cell_type": "markdown",
   "metadata": {
    "slideshow": {
     "slide_type": "fragment"
    }
   },
   "source": [
    "* Negative indices index backwards through a collection\n",
    "* A sequence of indices (called a slice) can be accessed using `start:stop`\n",
    "* In this contstruction, `start` is included then every element until `stop`, not including `stop` itself\n",
    "* To skip values in a sequence use `start:stop:step`"
   ]
  },
  {
   "cell_type": "markdown",
   "metadata": {
    "slideshow": {
     "slide_type": "slide"
    }
   },
   "source": [
    "# Tuples\n",
    "Tuples works similar to list, except tuples are immutable. Refer to the following [link](https://www.tutorialspoint.com/python/python_tuples.htm) for all the available function. "
   ]
  },
  {
   "cell_type": "markdown",
   "metadata": {
    "slideshow": {
     "slide_type": "fragment"
    }
   },
   "source": [
    "<div class=\"alert alert-success\">\n",
    "A <b>tuple</b> is an <i>immutable</i> collection of ordered items, that can be of mixed type. Tuples are created using parentheses.\n",
    "</div>"
   ]
  },
  {
   "cell_type": "code",
   "execution_count": 13,
   "metadata": {
    "slideshow": {
     "slide_type": "subslide"
    }
   },
   "outputs": [
    {
     "name": "stdout",
     "output_type": "stream",
     "text": [
      "bananas\n",
      "<class 'tuple'>\n",
      "['apples', 'bananas', 5.5, (2+5j)]\n"
     ]
    }
   ],
   "source": [
    "my_grocery_list = (\"apples\", \"bananas\", 5.5, 2 + 5j)  ## tuples are initialzed via paranthesis\n",
    "print(my_grocery_list[1])\n",
    "print(type(my_grocery_list))\n",
    "tuple_to_list = list(my_grocery_list)\n",
    "print(tuple_to_list)\n",
    "\n",
    "# my_grocery_list.append(\"potatoes\") ## throw an error\n",
    "# my_grocery_list[1] = \"potatoes\"  ## throw an error\n",
    "# my_grocery_list.pop()\n",
    "# my_grocery_list.insert(1, 3.3)"
   ]
  },
  {
   "cell_type": "markdown",
   "metadata": {
    "slideshow": {
     "slide_type": "slide"
    }
   },
   "source": [
    "## Pay attention to Aliases!"
   ]
  },
  {
   "cell_type": "code",
   "execution_count": null,
   "metadata": {
    "slideshow": {
     "slide_type": "subslide"
    }
   },
   "outputs": [],
   "source": [
    "# Make a variable & an alias\n",
    "# change value of original variable\n",
    "# Ints are immutable\n",
    "a = 1\n",
    "b = a\n",
    "a = 2\n",
    "\n",
    "print(a)\n",
    "print(b)"
   ]
  },
  {
   "cell_type": "code",
   "execution_count": null,
   "metadata": {
    "slideshow": {
     "slide_type": "fragment"
    }
   },
   "outputs": [],
   "source": [
    "# Lists are mutable\n",
    "first_list = [1, 2, 3, 4]\n",
    "alias_list = first_list\n",
    "#change second value of first_list\n",
    "first_list[1] = 29\n",
    "alias_list"
   ]
  },
  {
   "cell_type": "markdown",
   "metadata": {
    "slideshow": {
     "slide_type": "slide"
    }
   },
   "source": [
    "## Strings are also collection of characters!"
   ]
  },
  {
   "cell_type": "code",
   "execution_count": null,
   "metadata": {
    "slideshow": {
     "slide_type": "fragment"
    }
   },
   "outputs": [],
   "source": [
    "# Define a string\n",
    "my_str = 'TheFamousFive'\n",
    "# Index into a string\n",
    "my_str[2]\n",
    "# Ask if an item is in a string\n",
    "'Fam' in my_str\n",
    "# Check the length of a string\n",
    "len(my_str)\n",
    "# Index into a string\n",
    "# This code will produce an error\n",
    "my_str[1:3] = 'HE'"
   ]
  },
  {
   "cell_type": "markdown",
   "metadata": {
    "slideshow": {
     "slide_type": "slide"
    }
   },
   "source": [
    "# Loops\n",
    "## for loops\n",
    "**for** *var* in *sequence*:\n",
    "\n",
    "    code goes here"
   ]
  },
  {
   "cell_type": "code",
   "execution_count": 14,
   "metadata": {
    "slideshow": {
     "slide_type": "subslide"
    }
   },
   "outputs": [
    {
     "name": "stdout",
     "output_type": "stream",
     "text": [
      "apples\n",
      "bananas\n",
      "5.5\n",
      "(2+5j)\n"
     ]
    }
   ],
   "source": [
    "my_grocery_list = [\"apples\", \"bananas\", 5.5, 2 + 5j]\n",
    "my_grocery_list = (\"apples\", \"bananas\", 5.5, 2 + 5j)  ## tuples are initialzed via paranthesis\n",
    "for items in my_grocery_list:\n",
    "    print(items)"
   ]
  },
  {
   "cell_type": "markdown",
   "metadata": {
    "slideshow": {
     "slide_type": "slide"
    }
   },
   "source": [
    "## while loops\n",
    "**while** stopping_condition:\n",
    "    \n",
    "    code goes goes\n",
    "    \n",
    "**Python does not support do-while loops**"
   ]
  },
  {
   "cell_type": "code",
   "execution_count": 15,
   "metadata": {
    "slideshow": {
     "slide_type": "subslide"
    }
   },
   "outputs": [
    {
     "name": "stdout",
     "output_type": "stream",
     "text": [
      "I =  10\n",
      "I =  9\n",
      "I =  8\n",
      "I =  7\n",
      "I =  6\n",
      "I =  5\n",
      "I =  4\n",
      "I =  3\n",
      "I =  2\n",
      "I =  1\n",
      "I =  0\n"
     ]
    }
   ],
   "source": [
    "i = 10\n",
    "while i >= 0:\n",
    "    print(\"I = \", i)\n",
    "    i = i - 1"
   ]
  },
  {
   "cell_type": "markdown",
   "metadata": {
    "slideshow": {
     "slide_type": "slide"
    }
   },
   "source": [
    "## Range\n",
    "<div class=\"alert alert-success\">\n",
    "<code>range</code> is an operator to create a range of numbers, that is often used with loops.\n",
    "</div>"
   ]
  },
  {
   "cell_type": "markdown",
   "metadata": {
    "slideshow": {
     "slide_type": "fragment"
    }
   },
   "source": [
    "Refer to the following [link](https://docs.python.org/3/library/functions.html#func-range) for further reference."
   ]
  },
  {
   "cell_type": "code",
   "execution_count": 16,
   "metadata": {
    "slideshow": {
     "slide_type": "subslide"
    }
   },
   "outputs": [
    {
     "name": "stdout",
     "output_type": "stream",
     "text": [
      "i =  0\n",
      "i =  1\n",
      "i =  2\n",
      "i =  3\n",
      "i =  4\n",
      "i =  5\n",
      "i =  6\n",
      "j =  1\n",
      "j =  2\n",
      "j =  3\n",
      "j =  4\n",
      "j =  5\n",
      "j =  6\n",
      "k =  1\n",
      "k =  4\n",
      "k =  7\n",
      "k =  10\n",
      "k =  13\n",
      "k =  16\n",
      "k =  19\n"
     ]
    }
   ],
   "source": [
    "for i in range(7):    # provide the stopping condition\n",
    "    print(\"i = \", i)\n",
    "    \n",
    "for j in range(1, 6 + 1):  # provide the starting and stopping condition\n",
    "    print(\"j = \", j)\n",
    "    \n",
    "for k in range(1, 21, 3):   # provide the starting, stopping, and step condition\n",
    "    print(\"k = \", k)"
   ]
  },
  {
   "cell_type": "markdown",
   "metadata": {
    "slideshow": {
     "slide_type": "subslide"
    }
   },
   "source": [
    "Write a loop that adds all the odd numbers between 1 and 100 together."
   ]
  },
  {
   "cell_type": "markdown",
   "metadata": {
    "slideshow": {
     "slide_type": "fragment"
    }
   },
   "source": [
    "A)  \n",
    "`\n",
    "summation = 0\n",
    "for num in range(100):\n",
    "    summation += num\n",
    "print(summation)\n",
    "`  \n",
    "B)  \n",
    "`\n",
    "summation = 0\n",
    "for num in range(0,101,2):\n",
    "    summation += num\n",
    "print(summation)\n",
    "`  \n",
    "C)  \n",
    "`\n",
    "summation = 0\n",
    "for num in range(1,100,2):\n",
    "    summation += num\n",
    "print(summation)\n",
    "`  \n",
    "D)  \n",
    "None of above"
   ]
  },
  {
   "cell_type": "markdown",
   "metadata": {
    "slideshow": {
     "slide_type": "slide"
    }
   },
   "source": [
    "## Continue and Break"
   ]
  },
  {
   "cell_type": "markdown",
   "metadata": {
    "slideshow": {
     "slide_type": "fragment"
    }
   },
   "source": [
    "<div class=\"alert alert-success\">\n",
    "<code>continue</code> is a special operator to jump ahead to the next iteration of a loop.\n",
    "</div>"
   ]
  },
  {
   "cell_type": "markdown",
   "metadata": {
    "slideshow": {
     "slide_type": "fragment"
    }
   },
   "source": [
    "<div class=\"alert alert-success\">\n",
    "<code>break</code> is a special operator to break out of a loop.\n",
    "</div>"
   ]
  },
  {
   "cell_type": "code",
   "execution_count": null,
   "metadata": {
    "slideshow": {
     "slide_type": "subslide"
    }
   },
   "outputs": [],
   "source": []
  },
  {
   "cell_type": "markdown",
   "metadata": {
    "slideshow": {
     "slide_type": "slide"
    }
   },
   "source": [
    "# Dictionary\n",
    "<div class=\"alert alert-success\">\n",
    "A dictionary is mutable collection of items, that can be of mixed-type, that are stored as key-value pairs.\n",
    "</div>"
   ]
  },
  {
   "cell_type": "markdown",
   "metadata": {
    "slideshow": {
     "slide_type": "fragment"
    }
   },
   "source": [
    "Dictionaries are comma separated key-value pairs. Refer to the following [link](https://www.w3schools.com/python/python_dictionaries.asp) for further reference.\n",
    "- Only one value per key. No duplicate keys allowed. \n",
    "    - If duplicate keys specified during assignment, the last assignment wins.\n",
    "   - **keys** must be of an immutable type (string, tuple, integer, float, etc)\n",
    "- Note: **values** can be of any type\n"
   ]
  },
  {
   "cell_type": "code",
   "execution_count": 17,
   "metadata": {
    "slideshow": {
     "slide_type": "slide"
    }
   },
   "outputs": [
    {
     "name": "stdout",
     "output_type": "stream",
     "text": [
      "['pushups', 'situps', 'squads']\n",
      "{'Mon': 'rest', 'Tue': '3 mile run', 'wed': 'rest', 'Fri': 3.141592}\n",
      "{'Mon': 'rest', 'Tue': '3 mile run', 'wed': 'rest', 'Fri': 3.141592, 'Th': '3 mile run'}\n"
     ]
    }
   ],
   "source": [
    "workout_dictionary = {\"Mon\": [\"pushups\", \"situps\", \"squads\"],\n",
    "                      \"Tue\": \"3 mile run\",\n",
    "                      \"wed\": \"rest\",\n",
    "                      \"Fri\": 3.141592\n",
    "                     }\n",
    "\n",
    "print(workout_dictionary[\"Mon\"])  ## accessing items\n",
    "\n",
    "workout_dictionary[\"Mon\"] = \"rest\" ## modify items\n",
    "print(workout_dictionary)\n",
    "\n",
    "workout_dictionary[\"Th\"] = \"3 mile run\"  ## adding items\n",
    "print(workout_dictionary)"
   ]
  },
  {
   "cell_type": "markdown",
   "metadata": {
    "slideshow": {
     "slide_type": "subslide"
    }
   },
   "source": [
    "What will the code print?"
   ]
  },
  {
   "cell_type": "code",
   "execution_count": 5,
   "metadata": {
    "slideshow": {
     "slide_type": "fragment"
    }
   },
   "outputs": [],
   "source": [
    "guesses = {'Matt' : [2, 8], \n",
    "           'Jason'  : [12, 18],\n",
    "           'Lee' : [7, 11]}\n",
    "answer = 10\n",
    "\n",
    "for item in guesses:\n",
    "    temp = guesses[item]\n",
    "    if temp[0] <= answer <= temp[1]:\n",
    "        winner = item\n",
    "        \n",
    "# print(winner)"
   ]
  },
  {
   "cell_type": "markdown",
   "metadata": {
    "slideshow": {
     "slide_type": "fragment"
    }
   },
   "source": [
    "* A) Matt\n",
    "* B) [7, 11] \n",
    "* C) Jason\n",
    "* D) Lee\n",
    "* E) Matt, Jason"
   ]
  },
  {
   "cell_type": "markdown",
   "metadata": {
    "slideshow": {
     "slide_type": "slide"
    }
   },
   "source": [
    "# Functions\n",
    "**def** *functionName*( _parameters_ ):\n",
    "\n",
    "    code goes here"
   ]
  },
  {
   "cell_type": "code",
   "execution_count": 18,
   "metadata": {
    "slideshow": {
     "slide_type": "slide"
    }
   },
   "outputs": [
    {
     "name": "stdout",
     "output_type": "stream",
     "text": [
      "5\n",
      "ece196\n",
      "ECE196\n",
      "3.1415\n",
      "6.141500000000001\n",
      "6\n",
      "9.14\n"
     ]
    }
   ],
   "source": [
    "def printMe(value):  ## function with parameter\n",
    "    print(value)\n",
    "    \n",
    "def anotherFunction(value = \"ECE196\"):  ## fuction w/ default argument\n",
    "    print(value)\n",
    "    \n",
    "def addMeAndMe(x, y = 3.1415):  ## function with and w/0 default argument\n",
    "    print(x + y)\n",
    "    \n",
    "def testFunction(x, y = 3.14, z = 5.6):  ## function w/ multiple default argument\n",
    "    print(x+y+z)\n",
    "    \n",
    "printMe(5)\n",
    "printMe(\"ece196\")\n",
    "\n",
    "anotherFunction()\n",
    "anotherFunction(3.1415)\n",
    "\n",
    "addMeAndMe(3)\n",
    "addMeAndMe(4, 2)\n",
    "\n",
    "testFunction(4, z = 2)"
   ]
  },
  {
   "cell_type": "markdown",
   "metadata": {
    "slideshow": {
     "slide_type": "slide"
    }
   },
   "source": [
    "# Classes\n",
    "For a detail explanation of classes in Python, refer to the offical [documentation](https://docs.python.org/3/tutorial/classes.html).\n",
    "\n",
    "**class** ClassName:\n",
    "    \n",
    "    <statement-1>\n",
    "    .\n",
    "    .\n",
    "    .\n",
    "    <statement-N>"
   ]
  },
  {
   "cell_type": "code",
   "execution_count": 19,
   "metadata": {
    "slideshow": {
     "slide_type": "slide"
    }
   },
   "outputs": [
    {
     "name": "stdout",
     "output_type": "stream",
     "text": [
      "This is the constructor for the class....\n",
      "ece196\n",
      "myVariable =  4.5\n",
      "ECE196\n"
     ]
    }
   ],
   "source": [
    "class MyClass(object):\n",
    "    \n",
    "    def __init__(self, x = 4.5):\n",
    "        self.myVariable = x\n",
    "        print(\"This is the constructor for the class....\")\n",
    "    \n",
    "    def printMe(value):  ## function with parameter\n",
    "        print(value)\n",
    "    \n",
    "    def __anotherFunction__(self, value = \"ECE196\"):  ## fuction w/ default argument\n",
    "        print(\"myVariable = \", self.myVariable)\n",
    "        print(value)\n",
    "\n",
    "    def addMeAndMe(self, x, y = 3.1415):  ## function with and w/0 default argument\n",
    "        print(x + y)\n",
    "\n",
    "    def testFunction(self, x, y = 3.14, z = 5.6):  ## function w/ multiple default argument\n",
    "        print(x+y+z)\n",
    "        \n",
    "x = MyClass()\n",
    "MyClass.printMe(\"ece196\")\n",
    "x.__anotherFunction__()"
   ]
  },
  {
   "cell_type": "markdown",
   "metadata": {
    "slideshow": {
     "slide_type": "slide"
    }
   },
   "source": [
    "# Modules\n",
    "For a detail explanation of modules in Python, refer to the official [documentation](https://docs.python.org/3/tutorial/modules.html)."
   ]
  },
  {
   "cell_type": "code",
   "execution_count": 20,
   "metadata": {
    "slideshow": {
     "slide_type": "slide"
    }
   },
   "outputs": [
    {
     "name": "stdout",
     "output_type": "stream",
     "text": [
      "[1 2 3 4 5]\n",
      "[ 6  7  8  9 10]\n",
      "[ 6 14 24 36 50]\n",
      "z = \n",
      "[[1 2]\n",
      " [4 5]]\n",
      "w = \n",
      "[[ 1 -1]\n",
      " [ 1  1]]\n",
      "row =  [1 2]\n",
      "c =  1\n",
      "c =  2\n",
      "row =  [4 5]\n",
      "c =  4\n",
      "c =  5\n",
      "[[3 1]\n",
      " [9 1]]\n",
      "z_transpose = \n",
      "[[1 4]\n",
      " [2 5]]\n"
     ]
    }
   ],
   "source": [
    "import numpy as np   ## #include <numpy.h>, numpy with alias np\n",
    "\n",
    "x = np.array([1,2,3,4,5])\n",
    "y = np.array([6,7,8,9,10])\n",
    "\n",
    "print(x)\n",
    "print(y)\n",
    "print(x * y)\n",
    "\n",
    "z = np.array([[1,2], [4,5]])\n",
    "w = np.array([[1, -1], [1,1]])\n",
    "print(\"z = \")\n",
    "print(z)\n",
    "\n",
    "print(\"w = \")\n",
    "print(w)\n",
    "\n",
    "for row in z:\n",
    "    print(\"row = \", row)\n",
    "    for c in row:\n",
    "        print(\"c = \", c)\n",
    "        \n",
    "t = np.dot(z, w)\n",
    "print(t)\n",
    "\n",
    "z_transpose = z.T\n",
    "print(\"z_transpose = \")\n",
    "print(z_transpose)"
   ]
  },
  {
   "cell_type": "code",
   "execution_count": null,
   "metadata": {},
   "outputs": [],
   "source": []
  }
 ],
 "metadata": {
  "celltoolbar": "Slideshow",
  "kernelspec": {
   "display_name": "Python 3",
   "language": "python",
   "name": "python3"
  },
  "language_info": {
   "codemirror_mode": {
    "name": "ipython",
    "version": 3
   },
   "file_extension": ".py",
   "mimetype": "text/x-python",
   "name": "python",
   "nbconvert_exporter": "python",
   "pygments_lexer": "ipython3",
   "version": "3.7.4"
  }
 },
 "nbformat": 4,
 "nbformat_minor": 4
}
